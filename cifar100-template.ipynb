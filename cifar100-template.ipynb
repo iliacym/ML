{
 "metadata": {
  "kernelspec": {
   "language": "python",
   "display_name": "Python 3",
   "name": "python3"
  },
  "language_info": {
   "name": "python",
   "version": "3.7.12",
   "mimetype": "text/x-python",
   "codemirror_mode": {
    "name": "ipython",
    "version": 3
   },
   "pygments_lexer": "ipython3",
   "nbconvert_exporter": "python",
   "file_extension": ".py"
  }
 },
 "nbformat_minor": 4,
 "nbformat": 4,
 "cells": [
  {
   "cell_type": "markdown",
   "source": [
    "**Классификация изображений с помощью сверточных нейронных сетей**\n",
    "\n",
    "В данном задании Вам необходимо разработать архитектуру сверточной ИНС, обеспечивающую наибольшую точность при ограничении на количество операций (FLOPs <= 0.707e6).\n",
    "Заготовка кода для выполнения задания приведена выше. Вашей задачей будет заполнить пропущеные места, которые отмечены ключевым словом *None*.\n",
    "Необходимая точность (accuracy) сети на датасете CIFAR100 - 30%\n",
    "Желаемая точность (accuracy) сети на датасете CIFAR100 - 45%"
   ],
   "metadata": {}
  },
  {
   "cell_type": "code",
   "source": [
    "!pip install keras-flops"
   ],
   "metadata": {
    "trusted": true
   },
   "execution_count": 12,
   "outputs": [
    {
     "name": "stdout",
     "output_type": "stream",
     "text": [
      "Requirement already satisfied: keras-flops in c:\\users\\gis27\\appdata\\local\\programs\\python\\python310\\lib\\site-packages (0.1.2)\n",
      "Requirement already satisfied: tensorflow<3.0,>=2.2 in c:\\users\\gis27\\appdata\\local\\programs\\python\\python310\\lib\\site-packages (from keras-flops) (2.11.0)\n",
      "Requirement already satisfied: tensorflow-intel==2.11.0 in c:\\users\\gis27\\appdata\\local\\programs\\python\\python310\\lib\\site-packages (from tensorflow<3.0,>=2.2->keras-flops) (2.11.0)\n",
      "Requirement already satisfied: grpcio<2.0,>=1.24.3 in c:\\users\\gis27\\appdata\\local\\programs\\python\\python310\\lib\\site-packages (from tensorflow-intel==2.11.0->tensorflow<3.0,>=2.2->keras-flops) (1.51.1)\n",
      "Requirement already satisfied: termcolor>=1.1.0 in c:\\users\\gis27\\appdata\\local\\programs\\python\\python310\\lib\\site-packages (from tensorflow-intel==2.11.0->tensorflow<3.0,>=2.2->keras-flops) (2.2.0)\n",
      "Requirement already satisfied: opt-einsum>=2.3.2 in c:\\users\\gis27\\appdata\\local\\programs\\python\\python310\\lib\\site-packages (from tensorflow-intel==2.11.0->tensorflow<3.0,>=2.2->keras-flops) (3.3.0)\n",
      "Requirement already satisfied: typing-extensions>=3.6.6 in c:\\users\\gis27\\appdata\\local\\programs\\python\\python310\\lib\\site-packages (from tensorflow-intel==2.11.0->tensorflow<3.0,>=2.2->keras-flops) (4.4.0)\n",
      "Requirement already satisfied: numpy>=1.20 in c:\\users\\gis27\\appdata\\local\\programs\\python\\python310\\lib\\site-packages (from tensorflow-intel==2.11.0->tensorflow<3.0,>=2.2->keras-flops) (1.24.1)\n",
      "Requirement already satisfied: tensorflow-estimator<2.12,>=2.11.0 in c:\\users\\gis27\\appdata\\local\\programs\\python\\python310\\lib\\site-packages (from tensorflow-intel==2.11.0->tensorflow<3.0,>=2.2->keras-flops) (2.11.0)\n",
      "Requirement already satisfied: absl-py>=1.0.0 in c:\\users\\gis27\\appdata\\local\\programs\\python\\python310\\lib\\site-packages (from tensorflow-intel==2.11.0->tensorflow<3.0,>=2.2->keras-flops) (1.4.0)\n",
      "Requirement already satisfied: tensorboard<2.12,>=2.11 in c:\\users\\gis27\\appdata\\local\\programs\\python\\python310\\lib\\site-packages (from tensorflow-intel==2.11.0->tensorflow<3.0,>=2.2->keras-flops) (2.11.2)\n",
      "Requirement already satisfied: astunparse>=1.6.0 in c:\\users\\gis27\\appdata\\local\\programs\\python\\python310\\lib\\site-packages (from tensorflow-intel==2.11.0->tensorflow<3.0,>=2.2->keras-flops) (1.6.3)\n",
      "Requirement already satisfied: protobuf<3.20,>=3.9.2 in c:\\users\\gis27\\appdata\\local\\programs\\python\\python310\\lib\\site-packages (from tensorflow-intel==2.11.0->tensorflow<3.0,>=2.2->keras-flops) (3.19.6)\n",
      "Requirement already satisfied: libclang>=13.0.0 in c:\\users\\gis27\\appdata\\local\\programs\\python\\python310\\lib\\site-packages (from tensorflow-intel==2.11.0->tensorflow<3.0,>=2.2->keras-flops) (15.0.6.1)\n",
      "Requirement already satisfied: setuptools in c:\\users\\gis27\\appdata\\local\\programs\\python\\python310\\lib\\site-packages (from tensorflow-intel==2.11.0->tensorflow<3.0,>=2.2->keras-flops) (65.5.0)\n",
      "Requirement already satisfied: keras<2.12,>=2.11.0 in c:\\users\\gis27\\appdata\\local\\programs\\python\\python310\\lib\\site-packages (from tensorflow-intel==2.11.0->tensorflow<3.0,>=2.2->keras-flops) (2.11.0)\n",
      "Requirement already satisfied: packaging in c:\\users\\gis27\\appdata\\local\\programs\\python\\python310\\lib\\site-packages (from tensorflow-intel==2.11.0->tensorflow<3.0,>=2.2->keras-flops) (23.0)\n",
      "Requirement already satisfied: h5py>=2.9.0 in c:\\users\\gis27\\appdata\\local\\programs\\python\\python310\\lib\\site-packages (from tensorflow-intel==2.11.0->tensorflow<3.0,>=2.2->keras-flops) (3.7.0)\n",
      "Requirement already satisfied: flatbuffers>=2.0 in c:\\users\\gis27\\appdata\\local\\programs\\python\\python310\\lib\\site-packages (from tensorflow-intel==2.11.0->tensorflow<3.0,>=2.2->keras-flops) (23.1.4)\n",
      "Requirement already satisfied: wrapt>=1.11.0 in c:\\users\\gis27\\appdata\\local\\programs\\python\\python310\\lib\\site-packages (from tensorflow-intel==2.11.0->tensorflow<3.0,>=2.2->keras-flops) (1.14.1)\n",
      "Requirement already satisfied: google-pasta>=0.1.1 in c:\\users\\gis27\\appdata\\local\\programs\\python\\python310\\lib\\site-packages (from tensorflow-intel==2.11.0->tensorflow<3.0,>=2.2->keras-flops) (0.2.0)\n",
      "Requirement already satisfied: tensorflow-io-gcs-filesystem>=0.23.1 in c:\\users\\gis27\\appdata\\local\\programs\\python\\python310\\lib\\site-packages (from tensorflow-intel==2.11.0->tensorflow<3.0,>=2.2->keras-flops) (0.29.0)\n",
      "Requirement already satisfied: six>=1.12.0 in c:\\users\\gis27\\appdata\\local\\programs\\python\\python310\\lib\\site-packages (from tensorflow-intel==2.11.0->tensorflow<3.0,>=2.2->keras-flops) (1.16.0)\n",
      "Requirement already satisfied: gast<=0.4.0,>=0.2.1 in c:\\users\\gis27\\appdata\\local\\programs\\python\\python310\\lib\\site-packages (from tensorflow-intel==2.11.0->tensorflow<3.0,>=2.2->keras-flops) (0.4.0)\n",
      "Requirement already satisfied: wheel<1.0,>=0.23.0 in c:\\users\\gis27\\appdata\\local\\programs\\python\\python310\\lib\\site-packages (from astunparse>=1.6.0->tensorflow-intel==2.11.0->tensorflow<3.0,>=2.2->keras-flops) (0.38.4)\n",
      "Requirement already satisfied: google-auth-oauthlib<0.5,>=0.4.1 in c:\\users\\gis27\\appdata\\local\\programs\\python\\python310\\lib\\site-packages (from tensorboard<2.12,>=2.11->tensorflow-intel==2.11.0->tensorflow<3.0,>=2.2->keras-flops) (0.4.6)\n",
      "Requirement already satisfied: werkzeug>=1.0.1 in c:\\users\\gis27\\appdata\\local\\programs\\python\\python310\\lib\\site-packages (from tensorboard<2.12,>=2.11->tensorflow-intel==2.11.0->tensorflow<3.0,>=2.2->keras-flops) (2.2.2)\n",
      "Requirement already satisfied: tensorboard-plugin-wit>=1.6.0 in c:\\users\\gis27\\appdata\\local\\programs\\python\\python310\\lib\\site-packages (from tensorboard<2.12,>=2.11->tensorflow-intel==2.11.0->tensorflow<3.0,>=2.2->keras-flops) (1.8.1)\n",
      "Requirement already satisfied: google-auth<3,>=1.6.3 in c:\\users\\gis27\\appdata\\local\\programs\\python\\python310\\lib\\site-packages (from tensorboard<2.12,>=2.11->tensorflow-intel==2.11.0->tensorflow<3.0,>=2.2->keras-flops) (2.16.0)\n",
      "Requirement already satisfied: requests<3,>=2.21.0 in c:\\users\\gis27\\appdata\\local\\programs\\python\\python310\\lib\\site-packages (from tensorboard<2.12,>=2.11->tensorflow-intel==2.11.0->tensorflow<3.0,>=2.2->keras-flops) (2.28.2)\n",
      "Requirement already satisfied: markdown>=2.6.8 in c:\\users\\gis27\\appdata\\local\\programs\\python\\python310\\lib\\site-packages (from tensorboard<2.12,>=2.11->tensorflow-intel==2.11.0->tensorflow<3.0,>=2.2->keras-flops) (3.4.1)\n",
      "Requirement already satisfied: tensorboard-data-server<0.7.0,>=0.6.0 in c:\\users\\gis27\\appdata\\local\\programs\\python\\python310\\lib\\site-packages (from tensorboard<2.12,>=2.11->tensorflow-intel==2.11.0->tensorflow<3.0,>=2.2->keras-flops) (0.6.1)\n",
      "Requirement already satisfied: pyasn1-modules>=0.2.1 in c:\\users\\gis27\\appdata\\local\\programs\\python\\python310\\lib\\site-packages (from google-auth<3,>=1.6.3->tensorboard<2.12,>=2.11->tensorflow-intel==2.11.0->tensorflow<3.0,>=2.2->keras-flops) (0.2.8)\n",
      "Requirement already satisfied: rsa<5,>=3.1.4 in c:\\users\\gis27\\appdata\\local\\programs\\python\\python310\\lib\\site-packages (from google-auth<3,>=1.6.3->tensorboard<2.12,>=2.11->tensorflow-intel==2.11.0->tensorflow<3.0,>=2.2->keras-flops) (4.9)\n",
      "Requirement already satisfied: cachetools<6.0,>=2.0.0 in c:\\users\\gis27\\appdata\\local\\programs\\python\\python310\\lib\\site-packages (from google-auth<3,>=1.6.3->tensorboard<2.12,>=2.11->tensorflow-intel==2.11.0->tensorflow<3.0,>=2.2->keras-flops) (5.2.1)\n",
      "Requirement already satisfied: requests-oauthlib>=0.7.0 in c:\\users\\gis27\\appdata\\local\\programs\\python\\python310\\lib\\site-packages (from google-auth-oauthlib<0.5,>=0.4.1->tensorboard<2.12,>=2.11->tensorflow-intel==2.11.0->tensorflow<3.0,>=2.2->keras-flops) (1.3.1)\n",
      "Requirement already satisfied: certifi>=2017.4.17 in c:\\users\\gis27\\appdata\\local\\programs\\python\\python310\\lib\\site-packages (from requests<3,>=2.21.0->tensorboard<2.12,>=2.11->tensorflow-intel==2.11.0->tensorflow<3.0,>=2.2->keras-flops) (2022.12.7)\n",
      "Requirement already satisfied: idna<4,>=2.5 in c:\\users\\gis27\\appdata\\local\\programs\\python\\python310\\lib\\site-packages (from requests<3,>=2.21.0->tensorboard<2.12,>=2.11->tensorflow-intel==2.11.0->tensorflow<3.0,>=2.2->keras-flops) (3.4)\n",
      "Requirement already satisfied: charset-normalizer<4,>=2 in c:\\users\\gis27\\appdata\\local\\programs\\python\\python310\\lib\\site-packages (from requests<3,>=2.21.0->tensorboard<2.12,>=2.11->tensorflow-intel==2.11.0->tensorflow<3.0,>=2.2->keras-flops) (3.0.1)\n",
      "Requirement already satisfied: urllib3<1.27,>=1.21.1 in c:\\users\\gis27\\appdata\\local\\programs\\python\\python310\\lib\\site-packages (from requests<3,>=2.21.0->tensorboard<2.12,>=2.11->tensorflow-intel==2.11.0->tensorflow<3.0,>=2.2->keras-flops) (1.26.14)\n",
      "Requirement already satisfied: MarkupSafe>=2.1.1 in c:\\users\\gis27\\appdata\\local\\programs\\python\\python310\\lib\\site-packages (from werkzeug>=1.0.1->tensorboard<2.12,>=2.11->tensorflow-intel==2.11.0->tensorflow<3.0,>=2.2->keras-flops) (2.1.2)\n",
      "Requirement already satisfied: pyasn1<0.5.0,>=0.4.6 in c:\\users\\gis27\\appdata\\local\\programs\\python\\python310\\lib\\site-packages (from pyasn1-modules>=0.2.1->google-auth<3,>=1.6.3->tensorboard<2.12,>=2.11->tensorflow-intel==2.11.0->tensorflow<3.0,>=2.2->keras-flops) (0.4.8)\n",
      "Requirement already satisfied: oauthlib>=3.0.0 in c:\\users\\gis27\\appdata\\local\\programs\\python\\python310\\lib\\site-packages (from requests-oauthlib>=0.7.0->google-auth-oauthlib<0.5,>=0.4.1->tensorboard<2.12,>=2.11->tensorflow-intel==2.11.0->tensorflow<3.0,>=2.2->keras-flops) (3.2.2)\n"
     ]
    }
   ]
  },
  {
   "cell_type": "code",
   "source": [
    "# Импорт необходимых библиотек\n",
    "import numpy as np\n",
    "import pandas as pd\n",
    "import tensorflow as tf\n",
    "from tensorflow import keras\n",
    "from keras_flops import get_flops"
   ],
   "metadata": {
    "_uuid": "8f2839f25d086af736a60e9eeb907d3b93b6e0e5",
    "_cell_guid": "b1076dfc-b9ad-4769-8c92-a6c4dae69d19",
    "trusted": true
   },
   "execution_count": 19,
   "outputs": []
  },
  {
   "cell_type": "code",
   "source": [
    "# Глобальные константы\n",
    "CLASSES = 100\n",
    "BATCH_SIZE = 128\n",
    "LEARNING_RATE = 1e-2"
   ],
   "metadata": {
    "trusted": true
   },
   "execution_count": 20,
   "outputs": []
  },
  {
   "cell_type": "code",
   "source": [
    "# Выполните загрузку модели\n",
    "(X_train, y_train), (X_val, y_val) = keras.datasets.cifar100.load_data()"
   ],
   "metadata": {
    "trusted": true
   },
   "execution_count": 21,
   "outputs": []
  },
  {
   "cell_type": "code",
   "source": [
    "# Преобразуйте метки классов в one_hot формат\n",
    "y_train = keras.utils.to_categorical(y_train)\n",
    "y_val = keras.utils.to_categorical(y_val)"
   ],
   "metadata": {
    "trusted": true
   },
   "execution_count": 22,
   "outputs": []
  },
  {
   "cell_type": "code",
   "source": [
    "# убедитесь, что данная ячейка выполняется без ошибок\n",
    "assert X_train.shape == (50000, 32, 32, 3)\n",
    "assert X_val.shape == (10000, 32, 32, 3)\n",
    "assert y_train.shape == (50000, 100)\n",
    "assert y_val.shape == (10000, 100)"
   ],
   "metadata": {
    "trusted": true
   },
   "execution_count": 23,
   "outputs": []
  },
  {
   "cell_type": "code",
   "source": [
    "# Задайте архитектуру модели\n",
    "model = keras.models.Sequential([\n",
    "    keras.layers.Conv2D(8, (3, 3), strides=2, input_shape=[32, 32, 3], padding='same'),\n",
    "    keras.layers.BatchNormalization(),\n",
    "    keras.layers.Activation('relu'),\n",
    "    keras.layers.Conv2D(8, (3, 3)),\n",
    "    keras.layers.BatchNormalization(),\n",
    "    keras.layers.Activation('relu'),\n",
    "    keras.layers.MaxPool2D(),\n",
    "    keras.layers.Dropout(0.25),\n",
    "    keras.layers.Flatten(),\n",
    "    keras.layers.Dense(350),\n",
    "    keras.layers.BatchNormalization(),\n",
    "    keras.layers.Activation('relu'),\n",
    "    keras.layers.Dropout(0.25),\n",
    "    keras.layers.Dense(CLASSES, activation='sigmoid')\n",
    "])"
   ],
   "metadata": {
    "trusted": true
   },
   "execution_count": 128,
   "outputs": []
  },
  {
   "cell_type": "code",
   "source": [
    "# вычисление количества операций\n",
    "flops = get_flops(model, batch_size=1)\n",
    "print(f\"FLOPs: {(flops / 1e6):.4f}e6\")"
   ],
   "metadata": {
    "trusted": true
   },
   "execution_count": 129,
   "outputs": [
    {
     "name": "stdout",
     "output_type": "stream",
     "text": [
      "FLOPs: 0.6965e6\n"
     ]
    }
   ]
  },
  {
   "cell_type": "code",
   "source": [
    "# вывод краткой информации о модели\n",
    "model.summary()"
   ],
   "metadata": {
    "trusted": true
   },
   "execution_count": 130,
   "outputs": [
    {
     "name": "stdout",
     "output_type": "stream",
     "text": [
      "Model: \"sequential_30\"\n",
      "_________________________________________________________________\n",
      " Layer (type)                Output Shape              Param #   \n",
      "=================================================================\n",
      " conv2d_52 (Conv2D)          (None, 16, 16, 8)         224       \n",
      "                                                                 \n",
      " batch_normalization_1 (Batc  (None, 16, 16, 8)        32        \n",
      " hNormalization)                                                 \n",
      "                                                                 \n",
      " activation_31 (Activation)  (None, 16, 16, 8)         0         \n",
      "                                                                 \n",
      " conv2d_53 (Conv2D)          (None, 14, 14, 8)         584       \n",
      "                                                                 \n",
      " batch_normalization_2 (Batc  (None, 14, 14, 8)        32        \n",
      " hNormalization)                                                 \n",
      "                                                                 \n",
      " activation_32 (Activation)  (None, 14, 14, 8)         0         \n",
      "                                                                 \n",
      " max_pooling2d_32 (MaxPoolin  (None, 7, 7, 8)          0         \n",
      " g2D)                                                            \n",
      "                                                                 \n",
      " dropout_14 (Dropout)        (None, 7, 7, 8)           0         \n",
      "                                                                 \n",
      " flatten_24 (Flatten)        (None, 392)               0         \n",
      "                                                                 \n",
      " dense_40 (Dense)            (None, 350)               137550    \n",
      "                                                                 \n",
      " batch_normalization_3 (Batc  (None, 350)              1400      \n",
      " hNormalization)                                                 \n",
      "                                                                 \n",
      " activation_33 (Activation)  (None, 350)               0         \n",
      "                                                                 \n",
      " dropout_15 (Dropout)        (None, 350)               0         \n",
      "                                                                 \n",
      " dense_41 (Dense)            (None, 100)               35100     \n",
      "                                                                 \n",
      "=================================================================\n",
      "Total params: 174,922\n",
      "Trainable params: 174,190\n",
      "Non-trainable params: 732\n",
      "_________________________________________________________________\n"
     ]
    }
   ]
  },
  {
   "cell_type": "code",
   "source": [
    "# параметры данной ячейки могут быть изменены для получения более высокой точности\n",
    "model.compile(optimizer='adam', loss='categorical_crossentropy', metrics='accuracy')"
   ],
   "metadata": {
    "trusted": true
   },
   "execution_count": 131,
   "outputs": []
  },
  {
   "cell_type": "code",
   "source": [
    "# обучения модели\n",
    "model.fit(x=X_train, y=y_train, validation_data=(X_val, y_val), batch_size=BATCH_SIZE, use_multiprocessing=True, workers=8, epochs=50)"
   ],
   "metadata": {
    "trusted": true
   },
   "execution_count": 132,
   "outputs": [
    {
     "name": "stdout",
     "output_type": "stream",
     "text": [
      "Epoch 1/50\n",
      "391/391 [==============================] - 9s 19ms/step - loss: 3.9429 - accuracy: 0.1092 - val_loss: 3.5089 - val_accuracy: 0.1784\n",
      "Epoch 2/50\n",
      "391/391 [==============================] - 7s 19ms/step - loss: 3.4030 - accuracy: 0.1913 - val_loss: 3.1744 - val_accuracy: 0.2407\n",
      "Epoch 3/50\n",
      "391/391 [==============================] - 7s 18ms/step - loss: 3.1979 - accuracy: 0.2248 - val_loss: 3.0312 - val_accuracy: 0.2646\n",
      "Epoch 4/50\n",
      "391/391 [==============================] - 7s 19ms/step - loss: 3.0856 - accuracy: 0.2489 - val_loss: 2.9379 - val_accuracy: 0.2828\n",
      "Epoch 5/50\n",
      "391/391 [==============================] - 7s 19ms/step - loss: 2.9836 - accuracy: 0.2673 - val_loss: 2.9168 - val_accuracy: 0.2823\n",
      "Epoch 6/50\n",
      "391/391 [==============================] - 7s 19ms/step - loss: 2.9213 - accuracy: 0.2780 - val_loss: 2.8453 - val_accuracy: 0.3022\n",
      "Epoch 7/50\n",
      "391/391 [==============================] - 7s 19ms/step - loss: 2.8550 - accuracy: 0.2895 - val_loss: 2.8035 - val_accuracy: 0.3049\n",
      "Epoch 8/50\n",
      "391/391 [==============================] - 8s 20ms/step - loss: 2.8218 - accuracy: 0.2984 - val_loss: 2.7462 - val_accuracy: 0.3183\n",
      "Epoch 9/50\n",
      "391/391 [==============================] - 7s 19ms/step - loss: 2.7738 - accuracy: 0.3050 - val_loss: 2.7233 - val_accuracy: 0.3257\n",
      "Epoch 10/50\n",
      "391/391 [==============================] - 8s 19ms/step - loss: 2.7336 - accuracy: 0.3154 - val_loss: 2.6948 - val_accuracy: 0.3306\n",
      "Epoch 11/50\n",
      "391/391 [==============================] - 8s 19ms/step - loss: 2.6980 - accuracy: 0.3236 - val_loss: 2.6710 - val_accuracy: 0.3329\n",
      "Epoch 12/50\n",
      "391/391 [==============================] - 7s 19ms/step - loss: 2.6721 - accuracy: 0.3255 - val_loss: 2.6446 - val_accuracy: 0.3404\n",
      "Epoch 13/50\n",
      "391/391 [==============================] - 7s 19ms/step - loss: 2.6400 - accuracy: 0.3304 - val_loss: 2.6435 - val_accuracy: 0.3366\n",
      "Epoch 14/50\n",
      "391/391 [==============================] - 7s 19ms/step - loss: 2.6124 - accuracy: 0.3360 - val_loss: 2.6238 - val_accuracy: 0.3385\n",
      "Epoch 15/50\n",
      "391/391 [==============================] - 8s 20ms/step - loss: 2.5904 - accuracy: 0.3438 - val_loss: 2.6371 - val_accuracy: 0.3333\n",
      "Epoch 16/50\n",
      "391/391 [==============================] - 8s 19ms/step - loss: 2.5715 - accuracy: 0.3480 - val_loss: 2.5956 - val_accuracy: 0.3489\n",
      "Epoch 17/50\n",
      "391/391 [==============================] - 8s 20ms/step - loss: 2.5511 - accuracy: 0.3509 - val_loss: 2.6094 - val_accuracy: 0.3450\n",
      "Epoch 18/50\n",
      "391/391 [==============================] - 8s 20ms/step - loss: 2.5268 - accuracy: 0.3537 - val_loss: 2.5773 - val_accuracy: 0.3508\n",
      "Epoch 19/50\n",
      "391/391 [==============================] - 7s 19ms/step - loss: 2.5104 - accuracy: 0.3587 - val_loss: 2.6255 - val_accuracy: 0.3478\n",
      "Epoch 20/50\n",
      "391/391 [==============================] - 7s 19ms/step - loss: 2.4896 - accuracy: 0.3621 - val_loss: 2.5831 - val_accuracy: 0.3543\n",
      "Epoch 21/50\n",
      "391/391 [==============================] - 8s 20ms/step - loss: 2.4759 - accuracy: 0.3652 - val_loss: 2.6143 - val_accuracy: 0.3399\n",
      "Epoch 22/50\n",
      "391/391 [==============================] - 8s 20ms/step - loss: 2.4611 - accuracy: 0.3698 - val_loss: 2.5584 - val_accuracy: 0.3540\n",
      "Epoch 23/50\n",
      "391/391 [==============================] - 8s 19ms/step - loss: 2.4538 - accuracy: 0.3671 - val_loss: 2.5775 - val_accuracy: 0.3509\n",
      "Epoch 24/50\n",
      "391/391 [==============================] - 8s 20ms/step - loss: 2.4458 - accuracy: 0.3687 - val_loss: 2.5474 - val_accuracy: 0.3565\n",
      "Epoch 25/50\n",
      "391/391 [==============================] - 8s 20ms/step - loss: 2.4297 - accuracy: 0.3735 - val_loss: 2.5589 - val_accuracy: 0.3533\n",
      "Epoch 26/50\n",
      "391/391 [==============================] - 8s 20ms/step - loss: 2.4129 - accuracy: 0.3762 - val_loss: 2.5354 - val_accuracy: 0.3582\n",
      "Epoch 27/50\n",
      "391/391 [==============================] - 7s 19ms/step - loss: 2.4050 - accuracy: 0.3771 - val_loss: 2.5757 - val_accuracy: 0.3502\n",
      "Epoch 28/50\n",
      "391/391 [==============================] - 7s 19ms/step - loss: 2.3896 - accuracy: 0.3814 - val_loss: 2.5592 - val_accuracy: 0.3549\n",
      "Epoch 29/50\n",
      "391/391 [==============================] - 8s 19ms/step - loss: 2.3805 - accuracy: 0.3842 - val_loss: 2.5229 - val_accuracy: 0.3616\n",
      "Epoch 30/50\n",
      "391/391 [==============================] - 7s 19ms/step - loss: 2.3712 - accuracy: 0.3835 - val_loss: 2.5474 - val_accuracy: 0.3606\n",
      "Epoch 31/50\n",
      "391/391 [==============================] - 7s 19ms/step - loss: 2.3570 - accuracy: 0.3878 - val_loss: 2.5566 - val_accuracy: 0.3586\n",
      "Epoch 32/50\n",
      "391/391 [==============================] - 7s 19ms/step - loss: 2.3521 - accuracy: 0.3903 - val_loss: 2.5213 - val_accuracy: 0.3631\n",
      "Epoch 33/50\n",
      "391/391 [==============================] - 7s 19ms/step - loss: 2.3400 - accuracy: 0.3918 - val_loss: 2.5627 - val_accuracy: 0.3511\n",
      "Epoch 34/50\n",
      "391/391 [==============================] - 7s 19ms/step - loss: 2.3314 - accuracy: 0.3930 - val_loss: 2.5354 - val_accuracy: 0.3591\n",
      "Epoch 35/50\n",
      "391/391 [==============================] - 8s 20ms/step - loss: 2.3242 - accuracy: 0.3935 - val_loss: 2.5369 - val_accuracy: 0.3591\n",
      "Epoch 36/50\n",
      "391/391 [==============================] - 8s 19ms/step - loss: 2.3206 - accuracy: 0.3936 - val_loss: 2.5344 - val_accuracy: 0.3595\n",
      "Epoch 37/50\n",
      "391/391 [==============================] - 7s 19ms/step - loss: 2.3128 - accuracy: 0.3942 - val_loss: 2.5357 - val_accuracy: 0.3669\n",
      "Epoch 38/50\n",
      "391/391 [==============================] - 7s 19ms/step - loss: 2.3034 - accuracy: 0.3977 - val_loss: 2.5200 - val_accuracy: 0.3691\n",
      "Epoch 39/50\n",
      "391/391 [==============================] - 7s 19ms/step - loss: 2.2823 - accuracy: 0.4038 - val_loss: 2.5257 - val_accuracy: 0.3658\n",
      "Epoch 40/50\n",
      "391/391 [==============================] - 7s 19ms/step - loss: 2.2887 - accuracy: 0.4004 - val_loss: 2.5140 - val_accuracy: 0.3648\n",
      "Epoch 41/50\n",
      "391/391 [==============================] - 7s 19ms/step - loss: 2.2965 - accuracy: 0.3977 - val_loss: 2.5225 - val_accuracy: 0.3633\n",
      "Epoch 42/50\n",
      "391/391 [==============================] - 7s 19ms/step - loss: 2.2790 - accuracy: 0.4054 - val_loss: 2.5118 - val_accuracy: 0.3635\n",
      "Epoch 43/50\n",
      "391/391 [==============================] - 8s 19ms/step - loss: 2.2686 - accuracy: 0.4021 - val_loss: 2.5765 - val_accuracy: 0.3552\n",
      "Epoch 44/50\n",
      "391/391 [==============================] - 8s 20ms/step - loss: 2.2569 - accuracy: 0.4075 - val_loss: 2.5100 - val_accuracy: 0.3660\n",
      "Epoch 45/50\n",
      "391/391 [==============================] - 7s 19ms/step - loss: 2.2620 - accuracy: 0.4076 - val_loss: 2.5410 - val_accuracy: 0.3620\n",
      "Epoch 46/50\n",
      "391/391 [==============================] - 8s 19ms/step - loss: 2.2508 - accuracy: 0.4093 - val_loss: 2.5251 - val_accuracy: 0.3603\n",
      "Epoch 47/50\n",
      "391/391 [==============================] - 7s 19ms/step - loss: 2.2485 - accuracy: 0.4103 - val_loss: 2.5168 - val_accuracy: 0.3656\n",
      "Epoch 48/50\n",
      "391/391 [==============================] - 7s 19ms/step - loss: 2.2510 - accuracy: 0.4095 - val_loss: 2.5288 - val_accuracy: 0.3600\n",
      "Epoch 49/50\n",
      "391/391 [==============================] - 7s 19ms/step - loss: 2.2326 - accuracy: 0.4099 - val_loss: 2.5486 - val_accuracy: 0.3597\n",
      "Epoch 50/50\n",
      "391/391 [==============================] - 7s 19ms/step - loss: 2.2341 - accuracy: 0.4119 - val_loss: 2.5062 - val_accuracy: 0.3669\n"
     ]
    },
    {
     "data": {
      "text/plain": "<keras.callbacks.History at 0x2a997f4e500>"
     },
     "execution_count": 132,
     "metadata": {},
     "output_type": "execute_result"
    }
   ]
  },
  {
   "cell_type": "code",
   "execution_count": 133,
   "outputs": [],
   "source": [
    "model.save('BOBA.hdf5')"
   ],
   "metadata": {
    "collapsed": false
   }
  }
 ]
}
